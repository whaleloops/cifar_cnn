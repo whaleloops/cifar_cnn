{
 "cells": [
  {
   "cell_type": "code",
   "execution_count": 1,
   "metadata": {},
   "outputs": [],
   "source": [
    "import numpy as np\n",
    "import os\n",
    "import tensorflow as tf\n",
    "import gc\n",
    "import pandas as pd\n",
    "import matplotlib.pyplot as plt\n",
    "\n",
    "from image_utils import deprocess_image\n",
    "from data_utils import load_tiny_imagenet"
   ]
  },
  {
   "cell_type": "code",
   "execution_count": 2,
   "metadata": {},
   "outputs": [
    {
     "name": "stdout",
     "output_type": "stream",
     "text": [
      "loading training data for synset 20 / 100\n",
      "loading training data for synset 40 / 100\n",
      "loading training data for synset 60 / 100\n",
      "loading training data for synset 80 / 100\n",
      "loading training data for synset 100 / 100\n"
     ]
    }
   ],
   "source": [
    "#%% load data\n",
    "data = load_tiny_imagenet('datasets/tiny-imagenet-100-A', subtract_mean=True)\n"
   ]
  },
  {
   "cell_type": "code",
   "execution_count": 10,
   "metadata": {},
   "outputs": [
    {
     "name": "stdout",
     "output_type": "stream",
     "text": [
      "1000\n",
      "[['Egyptian cat'], ['reel'], ['volleyball'], ['rocking chair', 'rocker'], ['lemon'], ['bullfrog', 'Rana catesbeiana'], ['basketball'], ['cliff', 'drop', 'drop-off'], ['espresso'], ['plunger', \"plumber's helper\"], ['parking meter'], ['German shepherd', 'German shepherd dog', 'German police dog', 'alsatian'], ['dining table', 'board'], ['monarch', 'monarch butterfly', 'milkweed butterfly', 'Danaus plexippus'], ['brown bear', 'bruin', 'Ursus arctos'], ['school bus'], ['pizza', 'pizza pie'], ['guinea pig', 'Cavia cobaya'], ['umbrella'], ['organ', 'pipe organ'], ['oboe', 'hautboy', 'hautbois'], ['maypole'], ['goldfish', 'Carassius auratus'], ['potpie'], ['hourglass'], ['seashore', 'coast', 'seacoast', 'sea-coast'], ['computer keyboard', 'keypad'], ['Arabian camel', 'dromedary', 'Camelus dromedarius'], ['ice cream', 'icecream'], ['nail'], ['space heater'], ['cardigan'], ['baboon'], ['snail'], ['coral reef'], ['albatross', 'mollymawk'], ['spider web', \"spider's web\"], ['sea cucumber', 'holothurian'], ['backpack', 'back pack', 'knapsack', 'packsack', 'rucksack', 'haversack'], ['Labrador retriever'], ['pretzel'], ['king penguin', 'Aptenodytes patagonica'], ['sulphur butterfly', 'sulfur butterfly'], ['tarantula'], ['lesser panda', 'red panda', 'panda', 'bear cat', 'cat bear', 'Ailurus fulgens'], ['pop bottle', 'soda bottle'], ['banana'], ['sock'], ['cockroach', 'roach'], ['projectile', 'missile'], ['beer bottle'], ['mantis', 'mantid'], ['freight car'], ['guacamole'], ['remote control', 'remote'], ['European fire salamander', 'Salamandra salamandra'], ['lakeside', 'lakeshore'], ['chimpanzee', 'chimp', 'Pan troglodytes'], ['pay-phone', 'pay-station'], ['fur coat'], ['alp'], ['lampshade', 'lamp shade'], ['torch'], ['abacus'], ['moving van'], ['barrel', 'cask'], ['tabby', 'tabby cat'], ['goose'], ['koala', 'koala bear', 'kangaroo bear', 'native bear', 'Phascolarctos cinereus'], ['bullet train', 'bullet'], ['CD player'], ['teapot'], ['birdhouse'], ['gazelle'], ['academic gown', 'academic robe', \"judge's robe\"], ['tractor'], ['ladybug', 'ladybeetle', 'lady beetle', 'ladybird', 'ladybird beetle'], ['miniskirt', 'mini'], ['golden retriever'], ['triumphal arch'], ['cannon'], ['neck brace'], ['sombrero'], ['gasmask', 'respirator', 'gas helmet'], ['candle', 'taper', 'wax light'], ['desk'], ['frying pan', 'frypan', 'skillet'], ['bee'], ['dam', 'dike', 'dyke'], ['spiny lobster', 'langouste', 'rock lobster', 'crawfish', 'crayfish', 'sea crawfish'], ['police van', 'police wagon', 'paddy wagon', 'patrol wagon', 'wagon', 'black Maria'], ['iPod'], ['punching bag', 'punch bag', 'punching ball', 'punchball'], ['beacon', 'lighthouse', 'beacon light', 'pharos'], ['jellyfish'], ['wok'], [\"potter's wheel\"], ['sandal'], ['pill bottle'], ['butcher shop', 'meat market']]\n"
     ]
    }
   ],
   "source": [
    "num_train = len(data['X_train'])/25\n",
    "small_data = {\n",
    "  'X_train': data['X_train'][0:num_train:2], #(200, 3, 64, 64)\n",
    "  'y_train': data['y_train'][0:num_train:2], #(200)\n",
    "  'X_val': data['X_val'],\n",
    "  'y_val': data['y_val'],\n",
    "  'class_names': data['class_names'],  #100\n",
    "  'mean_image': data['mean_image']\n",
    "}\n",
    "\n",
    "print len(small_data['X_train'])\n",
    "print small_data['class_names']\n"
   ]
  },
  {
   "cell_type": "code",
   "execution_count": 4,
   "metadata": {
    "collapsed": true
   },
   "outputs": [],
   "source": [
    "def next_batch(x, y, index_in_epoch, batch_size):\n",
    "    num_examples = x.shape[0]\n",
    "    start = index_in_epoch\n",
    "    index_in_epoch += batch_size\n",
    "    if index_in_epoch > num_examples:\n",
    "        # Shuffle the data\n",
    "        perm = np.arange(num_examples)\n",
    "        np.random.shuffle(perm)\n",
    "        x = x[perm]\n",
    "        y = y[perm]\n",
    "        # Start next epoch\n",
    "        start = 0\n",
    "        index_in_epoch = batch_size\n",
    "        assert batch_size <= num_examples\n",
    "    end = index_in_epoch\n",
    "    return x[start:end], y[start:end],index_in_epoch"
   ]
  },
  {
   "cell_type": "code",
   "execution_count": 30,
   "metadata": {},
   "outputs": [
    {
     "data": {
      "text/plain": [
       "<function gc.collect>"
      ]
     },
     "execution_count": 30,
     "metadata": {},
     "output_type": "execute_result"
    }
   ],
   "source": [
    "del data\n",
    "gc.collect"
   ]
  },
  {
   "cell_type": "code",
   "execution_count": 5,
   "metadata": {
    "collapsed": true
   },
   "outputs": [],
   "source": [
    "#%%\n",
    "# 2.4 Build inference graph.\n",
    "def conv2d(x, W):\n",
    "  \"\"\"conv2d returns a 2d convolution layer with full stride.\"\"\"\n",
    "  return tf.nn.conv2d(x, W, strides=[1, 1, 1, 1], padding='SAME')\n",
    "\n",
    "\n",
    "def max_pool_2x2(x):\n",
    "  \"\"\"max_pool_2x2 downsamples a feature map by 2X.\"\"\"\n",
    "  return tf.nn.max_pool(x, ksize=[1, 2, 2, 1],\n",
    "                        strides=[1, 2, 2, 1], padding='SAME')\n",
    "\n",
    "def weight_variable(shape, name='weight'):\n",
    "  \"\"\"weight_variable generates a weight variable of a given shape.\"\"\"\n",
    "  initial = tf.truncated_normal(shape, stddev=0.1)\n",
    "  return tf.Variable(initial, name=name)\n",
    "\n",
    "def bias_variable(shape, name='bias'):\n",
    "  \"\"\"bias_variable generates a bias variable of a given shape.\"\"\"\n",
    "  initial = tf.constant(0.1, shape=shape)\n",
    "  return tf.Variable(initial, name=name)\n",
    "\n",
    "def variable_summaries(var):\n",
    "  \"\"\"Attach a lot of summaries to a Tensor (for TensorBoard visualization).\"\"\"\n",
    "  with tf.name_scope('summaries'):\n",
    "    mean = tf.reduce_mean(var)\n",
    "    with tf.name_scope('stddev'):\n",
    "      stddev = tf.sqrt(tf.reduce_mean(tf.square(var - mean)))\n",
    "\n",
    "def mnist_inference(images, hidden1_units, hidden2_units):\n",
    "    \"\"\"Build the MNIST model up to where it may be used for inference.\n",
    "    Args:\n",
    "        images: Images placeholder.\n",
    "        hidden1_units: Size of the first hidden layer.\n",
    "        hidden2_units: Size of the second hidden layer.\n",
    "    Returns:\n",
    "        logits: Output tensor with the computed logits.\n",
    "    \"\"\"\n",
    "    with tf.name_scope('input_reshape'):\n",
    "        x_image = tf.reshape(images, [-1, 64, 64, 3])\n",
    "\n",
    "    # Convolution 1\n",
    "    with tf.name_scope('conv1'):\n",
    "        # First convolutional layer - maps one grayscale image to 32 feature maps.\n",
    "        W_conv1 = weight_variable([5, 5, 3, 32], 'W_conv1')\n",
    "        b_conv1 = bias_variable([32], 'b_conv1')\n",
    "        h_conv1 = tf.nn.relu(conv2d(x_image, W_conv1) + b_conv1)\n",
    "        # Pooling layer - downsamples by 2X.\n",
    "        h_pool1 = max_pool_2x2(h_conv1)\n",
    "        norm1 = tf.nn.lrn(h_pool1, 4, bias=1.0, alpha=0.001 / 9.0, beta=0.75,\n",
    "                    name='norm1')\n",
    "\n",
    "    # Convolution 2\n",
    "    with tf.name_scope('conv2'):\n",
    "        # Second convolutional layer -- maps 32 feature maps to 64.\n",
    "        W_conv2 = weight_variable([5, 5, 32, 64], 'W_conv1')\n",
    "        b_conv2 = bias_variable([64], 'b_conv1')\n",
    "        h_conv2 = tf.nn.relu(conv2d(norm1, W_conv2) + b_conv2)\n",
    "        # Second pooling layer.\n",
    "        h_pool2 = max_pool_2x2(h_conv2)  \n",
    "        norm2 = tf.nn.lrn(h_pool2, 4, bias=1.0, alpha=0.001 / 9.0, beta=0.75,\n",
    "                    name='norm2')\n",
    "\n",
    "    # Hidden 1\n",
    "    with tf.name_scope('hidden1'):\n",
    "        # Fully connected layer 1 -- after 2 round of downsampling, our 28x28 image\n",
    "        # is down to 7x7x64 feature maps -- maps this to 1024 features.\n",
    "        tmp = norm2.get_shape().as_list()[1]\n",
    "        W_fc1 = weight_variable([tmp * tmp * 64, hidden1_units], 'W_fc1')\n",
    "        b_fc1 = bias_variable([1024], 'b_fc1')\n",
    "        norm2_flat = tf.reshape(norm2, [-1, tmp*tmp*64])\n",
    "        h_fc1 = tf.nn.relu(tf.matmul(norm2_flat, W_fc1) + b_fc1)\n",
    "        variable_summaries(W_fc1)\n",
    "        variable_summaries(b_fc1)\n",
    "        # Dropout - controls the complexity of the model, prevents co-adaptation of\n",
    "        # features.\n",
    "        keep_prob = tf.placeholder(tf.float32)\n",
    "        tf.add_to_collection(\"prop\", keep_prob)  # Remember this Op.\n",
    "        h_fc1_drop = tf.nn.dropout(h_fc1, keep_prob)\n",
    "\n",
    "    # Hidden 2\n",
    "    with tf.name_scope('hidden2'):\n",
    "        # Map the 1024 features to 10 classes, one for each digit\n",
    "        W_fc2 = weight_variable([hidden1_units, hidden2_units], 'W_fc2')\n",
    "        b_fc2 = bias_variable([hidden2_units], 'b_fc2')\n",
    "        variable_summaries(W_fc2)\n",
    "        variable_summaries(b_fc2)\n",
    "        y_conv = tf.matmul(h_fc1_drop, W_fc2) + b_fc2\n",
    "    return y_conv, keep_prob\n",
    "\n",
    "#%%\n",
    "# 2.5 Build training graph.\n",
    "def mnist_training(logits, labels, learning_rate):\n",
    "    \"\"\"Build the training graph.\n",
    "\n",
    "    Args:\n",
    "        logits: Logits tensor, float - [BATCH_SIZE, NUM_CLASSES].\n",
    "        labels: Labels tensor, int32 - [BATCH_SIZE], with values in the\n",
    "          range [0, NUM_CLASSES).\n",
    "        learning_rate: The learning rate to use for gradient descent.\n",
    "    Returns:\n",
    "        train_op: The Op for training.\n",
    "        loss: The Op for calculating loss.\n",
    "    \"\"\"\n",
    "    # Create an operation that calculates loss.\n",
    "    labels = tf.to_int64(labels)\n",
    "    cross_entropy = tf.nn.sparse_softmax_cross_entropy_with_logits(\n",
    "        logits=logits, labels=labels, name='xentropy')\n",
    "    loss = tf.reduce_mean(cross_entropy, name='xentropy_mean')\n",
    "    # Create the gradient descent optimizer with the given learning rate.\n",
    "    optimizer = tf.train.AdamOptimizer(learning_rate=learning_rate, beta1=0.9, beta2=0.999, epsilon=1e-08)\n",
    "    # Create a variable to track the global step.\n",
    "    global_step = tf.Variable(0, name='global_step', trainable=False)\n",
    "    # Use the optimizer to apply the gradients that minimize the loss\n",
    "    # (and also increment the global step counter) as a single training step.\n",
    "    train_op = optimizer.minimize(loss, global_step=global_step)\n",
    "\n",
    "    # Uncomment the following line to see what we have constructed.\n",
    "    # tf.train.write_graph(tf.get_default_graph().as_graph_def(),\n",
    "    #                      \"/tmp\", \"train.pbtxt\", as_text=True)\n",
    "    \n",
    "    return train_op, loss"
   ]
  },
  {
   "cell_type": "code",
   "execution_count": 11,
   "metadata": {},
   "outputs": [
    {
     "name": "stdout",
     "output_type": "stream",
     "text": [
      "Step 0/60 -- loss: 1072.295654\n",
      "Step 5/60 -- loss: 151.079895\n",
      "Step 10/60 -- loss: 67.390228\n",
      "Step 15/60 -- loss: 19.861290\n",
      "Step 20/60 -- loss: 1.098685\n",
      "Step 25/60 -- loss: 0.913034\n",
      "Step 30/60 -- loss: 0.002392\n",
      "Step 35/60 -- loss: 0.006426\n",
      "Step 40/60 -- loss: 0.000000\n",
      "Step 45/60 -- loss: 0.000000\n",
      "Step 50/60 -- loss: 0.000000\n",
      "Step 55/60 -- loss: 0.000000\n"
     ]
    }
   ],
   "source": [
    "#%% Overfit small data\n",
    "\n",
    "\n",
    "HIDDEN1_UNITS = 1024\n",
    "HIDDEN2_UNITS = 100\n",
    "MODEL_SAVE_PATH = 'model'\n",
    "MAX_STEPS = 60\n",
    "\n",
    "mnist_graph = tf.Graph()\n",
    "with mnist_graph.as_default():\n",
    "    # Generate placeholders for the images and labels.\n",
    "    images_placeholder = tf.placeholder(tf.float32)\n",
    "    labels_placeholder = tf.placeholder(tf.int32)\n",
    "    tf.add_to_collection(\"images\", images_placeholder)  # Remember this Op.\n",
    "    tf.add_to_collection(\"labels\", labels_placeholder)  # Remember this Op.\n",
    "\n",
    "\n",
    "    # Build a Graph that computes predictions from the inference model.\n",
    "    logits, keep_prob = mnist_inference(images_placeholder,\n",
    "                             HIDDEN1_UNITS,\n",
    "                             HIDDEN2_UNITS)\n",
    "    tf.add_to_collection(\"logits\", logits)  # Remember this Op.\n",
    "\n",
    "    # Add to the Graph the Ops that calculate and apply gradients.\n",
    "    train_op, loss_op = mnist_training(logits, labels_placeholder, 0.0001)\n",
    "\n",
    "    # Add the variable initializer Op.\n",
    "    init = tf.global_variables_initializer()\n",
    "\n",
    "    # Create a saver for writing training checkpoints.\n",
    "    saver = tf.train.Saver()\n",
    "\n",
    "    tf.summary.scalar(\"Cost\", loss_op)\n",
    "    # Uncomment the following line to see what we have constructed.\n",
    "    # tf.train.write_graph(tf.get_default_graph().as_graph_def(),\n",
    "    #                      \"/tmp\", \"complete.pbtxt\", as_text=True)\n",
    "\n",
    "with tf.Session(graph=mnist_graph) as sess:    \n",
    "    # Merge all the tf.summary\n",
    "    summary_op = tf.summary.merge_all()\n",
    "    train_writer = tf.summary.FileWriter('model', sess.graph)\n",
    "    \n",
    "    # Run the Op to initialize the variables.\n",
    "    sess.run(init)\n",
    "    \n",
    "    # Start the training loop.\n",
    "    index_in_epoch = 1000000\n",
    "    images = small_data['X_train']\n",
    "    labels = small_data['y_train']\n",
    "    for step in xrange(MAX_STEPS):\n",
    "        images, labels, index_in_epoch = next_batch(images, labels, index_in_epoch, 50)\n",
    "        # Run one step of the model.  The return values are the activations\n",
    "        # from the `train_op` (which is discarded) and the `loss` Op.  To\n",
    "        # inspect the values of your Ops or variables, you may include them\n",
    "        # in the list passed to sess.run() and the value tensors will be\n",
    "        # returned in the tuple from the call.\n",
    "        _, loss, summary = sess.run([train_op, loss_op, summary_op], \n",
    "                                     feed_dict={images_placeholder: images,\n",
    "                                                labels_placeholder: labels,\n",
    "                                                keep_prob: 1.0})\n",
    "        train_writer.add_summary(summary, step)\n",
    "        if step % 5 == 0:  # Record execution stats\n",
    "            print('Step %d/%d -- loss: %f' % (step, MAX_STEPS,loss))\n",
    "\n",
    "    # Write a checkpoint.\n",
    "    train_writer.close()\n",
    "    checkpoint_file = os.path.join(MODEL_SAVE_PATH, 'checkpoint')\n",
    "    saver.save(sess, checkpoint_file, global_step=step)"
   ]
  },
  {
   "cell_type": "code",
   "execution_count": 12,
   "metadata": {},
   "outputs": [
    {
     "name": "stdout",
     "output_type": "stream",
     "text": [
      "INFO:tensorflow:Restoring parameters from model/checkpoint-59\n",
      "0.353\n"
     ]
    }
   ],
   "source": [
    "# accuracy\n",
    "size_small_data = len(small_data['X_train'])\n",
    "with tf.Session(graph=tf.Graph()) as sess:\n",
    "    saver = tf.train.import_meta_graph(\n",
    "        os.path.join(MODEL_SAVE_PATH, \"checkpoint-59.meta\"))\n",
    "    saver.restore(\n",
    "        sess, os.path.join(MODEL_SAVE_PATH, \"checkpoint-59\"))\n",
    "\n",
    "    # Retrieve the Ops we 'remembered'.\n",
    "    logits = tf.get_collection(\"logits\")[0]\n",
    "    images_placeholder = tf.get_collection(\"images\")[0]\n",
    "    labels_placeholder = tf.get_collection(\"labels\")[0]\n",
    "    keep_prob = tf.get_collection(\"prop\")[0]\n",
    "\n",
    "    # Add an Op that chooses the top k predictions.\n",
    "    eval_op = tf.argmax(logits,axis=1)\n",
    "\n",
    "    # Run evaluation.\n",
    "    accuracy = np.array([0] * size_small_data)\n",
    "    for i in xrange(size_small_data):\n",
    "        images_feed = small_data['X_train'][i]\n",
    "        labels_feed = small_data['y_train'][i]\n",
    "        prediction = sess.run(eval_op,\n",
    "                              feed_dict={images_placeholder: images_feed,\n",
    "                                         labels_placeholder: labels_feed,\n",
    "                                         keep_prob: 1})\n",
    "        if labels_feed == prediction:\n",
    "            accuracy[i] = 1\n",
    "\n",
    "    # Show results.\n",
    "    a = np.sum(accuracy)\n",
    "    print (float(a)/len(accuracy))"
   ]
  },
  {
   "cell_type": "code",
   "execution_count": 16,
   "metadata": {
    "scrolled": false
   },
   "outputs": [
    {
     "name": "stdout",
     "output_type": "stream",
     "text": [
      "backprop\n",
      "INFO:tensorflow:Restoring parameters from model/checkpoint-59\n",
      "(64, 64, 3)\n",
      "(64, 64)\n",
      "['reel']\n"
     ]
    },
    {
     "data": {
      "image/png": "[encoded data removed]",
      "text/plain": [
       "<matplotlib.figure.Figure at 0x7f35465ab710>"
      ]
     },
     "metadata": {},
     "output_type": "display_data"
    },
    {
     "data": {
      "image/png": "[encoded data removed]",
      "text/plain": [
       "<matplotlib.figure.Figure at 0x7f354560f610>"
      ]
     },
     "metadata": {},
     "output_type": "display_data"
    }
   ],
   "source": [
    "print(\"backprop\")\n",
    "\n",
    "special_idx = 360\n",
    "with tf.Session(graph=tf.Graph()) as sess:\n",
    "    saver = tf.train.import_meta_graph(\"model/checkpoint-59.meta\")\n",
    "    saver.restore(sess, \"model/checkpoint-59\")\n",
    "\n",
    "    # Retrieve the Ops we 'remembered'.\n",
    "    logits = tf.get_collection(\"logits\")[0]\n",
    "    images_placeholder = tf.get_collection(\"images\")[0]\n",
    "    labels_placeholder = tf.get_collection(\"labels\")[0]\n",
    "    keep_prob = tf.get_collection(\"prop\")[0]\n",
    "    \n",
    "#     labels = tf.to_int64(labels_placeholder)\n",
    "#     cross_entropy = tf.nn.sparse_softmax_cross_entropy_with_logits(\n",
    "#         logits=logits, labels=labels, name='xentropy')\n",
    "#     loss = tf.reduce_mean(cross_entropy, name='xentropy_mean')\n",
    "    y = logits[0][labels_placeholder]\n",
    "    gradX_op = tf.gradients(y, images_placeholder)[0]  \n",
    "\n",
    "    # Run evaluation.\n",
    "    images_feed = small_data['X_train'][special_idx]\n",
    "    labels_feed = small_data['y_train'][special_idx]\n",
    "    gradX = sess.run(gradX_op,\n",
    "                          feed_dict={images_placeholder: images_feed,\n",
    "                                     labels_placeholder: labels_feed,\n",
    "                                     keep_prob: 1})\n",
    "gradX = np.moveaxis(gradX, [0, 1, 2], [2, 0, 1])\n",
    "print gradX.shape\n",
    "image_2d = np.sum(np.abs(gradX), axis=2)\n",
    "vmax = np.percentile(image_2d, 99)\n",
    "vmin = np.min(image_2d)\n",
    "dx = np.clip((image_2d - vmin) / (vmax - vmin), 0, 1)\n",
    "print dx.shape\n",
    "\n",
    "%matplotlib inline\n",
    "plt.rcParams['figure.figsize'] = (10.0, 8.0) # set default size of plots\n",
    "plt.rcParams['image.interpolation'] = 'nearest'\n",
    "plt.rcParams['image.cmap'] = 'gray'\n",
    "\n",
    "print small_data['class_names'][small_data['y_train'][special_idx]]\n",
    "img = deprocess_image(small_data['X_train'][special_idx], small_data['mean_image'])\n",
    "plt.imshow(img)\n",
    "plt.show()\n",
    "plt.imshow(dx)\n",
    "plt.show()"
   ]
  },
  {
   "cell_type": "code",
   "execution_count": 18,
   "metadata": {
    "collapsed": true
   },
   "outputs": [],
   "source": [
    "from tensorflow.python.framework import ops\n",
    "from tensorflow.python.ops import gen_nn_ops\n",
    "\n",
    "@ops.RegisterGradient(\"GuidedRelu\")\n",
    "def _GuidedReluGrad(op, grad):\n",
    "    return tf.where(0. < grad, gen_nn_ops._relu_grad(grad, op.outputs[0]), tf.zeros(grad.get_shape()))\n"
   ]
  },
  {
   "cell_type": "code",
   "execution_count": 22,
   "metadata": {},
   "outputs": [
    {
     "name": "stdout",
     "output_type": "stream",
     "text": [
      "INFO:tensorflow:Restoring parameters from model/checkpoint-59\n",
      "INFO:tensorflow:Restoring parameters from /tmp/guided_backprop_ckpt\n"
     ]
    },
    {
     "ename": "LookupError",
     "evalue": "No gradient defined for operation 'gradients/conv1/norm1_grad/LRNGrad_1' (op type: LRNGrad)",
     "output_type": "error",
     "traceback": [
      "\u001b[0;31m---------------------------------------------------------------------------\u001b[0m",
      "\u001b[0;31mLookupError\u001b[0m                               Traceback (most recent call last)",
      "\u001b[0;32m<ipython-input-22-b72d243d5cd9>\u001b[0m in \u001b[0;36m<module>\u001b[0;34m()\u001b[0m\n\u001b[1;32m     49\u001b[0m \u001b[0mlabels_feed\u001b[0m \u001b[0;34m=\u001b[0m \u001b[0msmall_data\u001b[0m\u001b[0;34m[\u001b[0m\u001b[0;34m'y_train'\u001b[0m\u001b[0;34m]\u001b[0m\u001b[0;34m[\u001b[0m\u001b[0mspecial_idx\u001b[0m\u001b[0;34m]\u001b[0m\u001b[0;34m\u001b[0m\u001b[0m\n\u001b[1;32m     50\u001b[0m gradX = guidedBackprop(graph, sess, gradX_op, images_placeholder, {images_placeholder: images_feed,\n\u001b[0;32m---> 51\u001b[0;31m                                      labels_placeholder: labels_feed, keep_prob: 1})  \n\u001b[0m\u001b[1;32m     52\u001b[0m \u001b[0;34m\u001b[0m\u001b[0m\n\u001b[1;32m     53\u001b[0m \u001b[0;34m\u001b[0m\u001b[0m\n",
      "\u001b[0;32m<ipython-input-22-b72d243d5cd9>\u001b[0m in \u001b[0;36mguidedBackprop\u001b[0;34m(graph, session, y, x, feed_dict)\u001b[0m\n\u001b[1;32m     15\u001b[0m       \u001b[0mimported_y\u001b[0m \u001b[0;34m=\u001b[0m \u001b[0mguided_graph\u001b[0m\u001b[0;34m.\u001b[0m\u001b[0mget_tensor_by_name\u001b[0m\u001b[0;34m(\u001b[0m\u001b[0my\u001b[0m\u001b[0;34m.\u001b[0m\u001b[0mname\u001b[0m\u001b[0;34m)\u001b[0m\u001b[0;34m\u001b[0m\u001b[0m\n\u001b[1;32m     16\u001b[0m       \u001b[0mimported_x\u001b[0m \u001b[0;34m=\u001b[0m \u001b[0mguided_graph\u001b[0m\u001b[0;34m.\u001b[0m\u001b[0mget_tensor_by_name\u001b[0m\u001b[0;34m(\u001b[0m\u001b[0mx\u001b[0m\u001b[0;34m.\u001b[0m\u001b[0mname\u001b[0m\u001b[0;34m)\u001b[0m\u001b[0;34m\u001b[0m\u001b[0m\n\u001b[0;32m---> 17\u001b[0;31m       \u001b[0mguided_grads_node\u001b[0m \u001b[0;34m=\u001b[0m \u001b[0mtf\u001b[0m\u001b[0;34m.\u001b[0m\u001b[0mgradients\u001b[0m\u001b[0;34m(\u001b[0m\u001b[0mimported_y\u001b[0m\u001b[0;34m,\u001b[0m \u001b[0mimported_x\u001b[0m\u001b[0;34m)\u001b[0m\u001b[0;34m[\u001b[0m\u001b[0;36m0\u001b[0m\u001b[0;34m]\u001b[0m\u001b[0;34m\u001b[0m\u001b[0m\n\u001b[0m\u001b[1;32m     18\u001b[0m \u001b[0;34m\u001b[0m\u001b[0m\n\u001b[1;32m     19\u001b[0m     \u001b[0;32mwith\u001b[0m \u001b[0mguided_graph\u001b[0m\u001b[0;34m.\u001b[0m\u001b[0mas_default\u001b[0m\u001b[0;34m(\u001b[0m\u001b[0;34m)\u001b[0m\u001b[0;34m:\u001b[0m\u001b[0;34m\u001b[0m\u001b[0m\n",
      "\u001b[0;32m/home/yangzhic/anaconda3/envs/tensorflow/lib/python2.7/site-packages/tensorflow/python/ops/gradients_impl.pyc\u001b[0m in \u001b[0;36mgradients\u001b[0;34m(ys, xs, grad_ys, name, colocate_gradients_with_ops, gate_gradients, aggregation_method)\u001b[0m\n\u001b[1;32m    514\u001b[0m               raise LookupError(\n\u001b[1;32m    515\u001b[0m                   \u001b[0;34m\"No gradient defined for operation '%s' (op type: %s)\"\u001b[0m \u001b[0;34m%\u001b[0m\u001b[0;34m\u001b[0m\u001b[0m\n\u001b[0;32m--> 516\u001b[0;31m                   (op.name, op.type))\n\u001b[0m\u001b[1;32m    517\u001b[0m         \u001b[0;32mif\u001b[0m \u001b[0mloop_state\u001b[0m\u001b[0;34m:\u001b[0m\u001b[0;34m\u001b[0m\u001b[0m\n\u001b[1;32m    518\u001b[0m           \u001b[0mloop_state\u001b[0m\u001b[0;34m.\u001b[0m\u001b[0mEnterGradWhileContext\u001b[0m\u001b[0;34m(\u001b[0m\u001b[0mop\u001b[0m\u001b[0;34m,\u001b[0m \u001b[0mbefore\u001b[0m\u001b[0;34m=\u001b[0m\u001b[0mFalse\u001b[0m\u001b[0;34m)\u001b[0m\u001b[0;34m\u001b[0m\u001b[0m\n",
      "\u001b[0;31mLookupError\u001b[0m: No gradient defined for operation 'gradients/conv1/norm1_grad/LRNGrad_1' (op type: LRNGrad)"
     ]
    }
   ],
   "source": [
    "def guidedBackprop(graph, session, y, x, feed_dict):\n",
    "    with graph.as_default():\n",
    "      saver = tf.train.Saver()\n",
    "      saver.save(session, '/tmp/guided_backprop_ckpt')\n",
    "        \n",
    "    graph_def = graph.as_graph_def()\n",
    "\n",
    "    guided_graph = tf.Graph()\n",
    "    with guided_graph.as_default():\n",
    "      guided_sess = tf.Session(graph = guided_graph)\n",
    "#       with guided_graph.gradient_override_map({'Relu': 'GuidedRelu'}):\n",
    "        # Import the graph def, and all the variables.\n",
    "      tf.import_graph_def(graph_def, name='')\n",
    "      saver.restore(guided_sess, '/tmp/guided_backprop_ckpt')\n",
    "      imported_y = guided_graph.get_tensor_by_name(y.name)\n",
    "      imported_x = guided_graph.get_tensor_by_name(x.name)\n",
    "      guided_grads_node = tf.gradients(imported_y, imported_x)[0]\n",
    "        \n",
    "    with guided_graph.as_default():\n",
    "      # Move all the feed dict tensor keys to refer to the same tensor on the\n",
    "      # new graph.\n",
    "      guided_feed_dict = {}\n",
    "      for tensor in feed_dict:\n",
    "        guided_feed_dict[tensor.name] = feed_dict[tensor]\n",
    "    result = guided_sess.run(guided_grads_node, feed_dict = guided_feed_dict)[0]\n",
    "    return result \n",
    "\n",
    "graph = tf.Graph()\n",
    "with graph.as_default():\n",
    "    sess = tf.Session(graph=graph)\n",
    "    saver = tf.train.import_meta_graph(\"model/checkpoint-59.meta\")\n",
    "    saver.restore(sess, \"model/checkpoint-59\")   \n",
    "\n",
    "    # Retrieve the Ops we 'remembered'.\n",
    "    logits = tf.get_collection(\"logits\")[0]\n",
    "    images_placeholder = tf.get_collection(\"images\")[0]\n",
    "    labels_placeholder = tf.get_collection(\"labels\")[0]\n",
    "    keep_prob = tf.get_collection(\"prop\")[0]\n",
    "    \n",
    "#     labels = tf.to_int64(labels_placeholder)\n",
    "#     cross_entropy = tf.nn.sparse_softmax_cross_entropy_with_logits(\n",
    "#         logits=logits, labels=labels, name='xentropy')\n",
    "#     loss = tf.reduce_mean(cross_entropy, name='xentropy_mean')\n",
    "    y = logits[0][labels_placeholder]\n",
    "    gradX_op = tf.gradients(y, images_placeholder)[0]  \n",
    "\n",
    "    \n",
    "images_feed = small_data['X_train'][special_idx]\n",
    "labels_feed = small_data['y_train'][special_idx]\n",
    "gradX = guidedBackprop(graph, sess, gradX_op, images_placeholder, {images_placeholder: images_feed,\n",
    "                                     labels_placeholder: labels_feed, keep_prob: 1})  \n",
    "\n",
    "\n",
    "gradX = np.moveaxis(gradX, [0, 1, 2], [2, 0, 1])\n",
    "print gradX.shape\n",
    "image_2d = np.sum(np.abs(gradX), axis=2)\n",
    "vmax = np.percentile(image_2d, 99)\n",
    "vmin = np.min(image_2d)\n",
    "dx = np.clip((image_2d - vmin) / (vmax - vmin), 0, 1)\n",
    "print dx.shape\n",
    "\n",
    "%matplotlib inline\n",
    "plt.rcParams['figure.figsize'] = (10.0, 8.0) # set default size of plots\n",
    "plt.rcParams['image.interpolation'] = 'nearest'\n",
    "plt.rcParams['image.cmap'] = 'gray'\n",
    "plt.imshow(dx)\n",
    "plt.show()"
   ]
  },
  {
   "cell_type": "code",
   "execution_count": 9,
   "metadata": {},
   "outputs": [
    {
     "name": "stdout",
     "output_type": "stream",
     "text": [
      "guided backprop\n",
      "INFO:tensorflow:Restoring parameters from model/checkpoint-199\n"
     ]
    },
    {
     "ename": "KeyError",
     "evalue": "\"Registering two gradient with name 'GuidedRelu' !(Previous registration was in <module> /home/yangzhic/anaconda3/envs/tensorflow/lib/python2.7/site-packages/ipykernel_launcher.py:16)\"",
     "output_type": "error",
     "traceback": [
      "\u001b[0;31m---------------------------------------------------------------------------\u001b[0m",
      "\u001b[0;31mKeyError\u001b[0m                                  Traceback (most recent call last)",
      "\u001b[0;32m<ipython-input-9-6fe5c4c2ba0d>\u001b[0m in \u001b[0;36m<module>\u001b[0;34m()\u001b[0m\n\u001b[1;32m     20\u001b[0m \u001b[0;34m\u001b[0m\u001b[0m\n\u001b[1;32m     21\u001b[0m \u001b[0mimages_feed\u001b[0m\u001b[0;34m,\u001b[0m \u001b[0mlabels_feed\u001b[0m \u001b[0;34m=\u001b[0m \u001b[0mtest_ds\u001b[0m\u001b[0;34m.\u001b[0m\u001b[0mnext_batch\u001b[0m\u001b[0;34m(\u001b[0m\u001b[0mEVAL_BATCH_SIZE\u001b[0m\u001b[0;34m)\u001b[0m\u001b[0;34m\u001b[0m\u001b[0m\n\u001b[0;32m---> 22\u001b[0;31m \u001b[0mguided_backprop\u001b[0m \u001b[0;34m=\u001b[0m \u001b[0msaliency\u001b[0m\u001b[0;34m.\u001b[0m\u001b[0mGuidedBackprop\u001b[0m\u001b[0;34m(\u001b[0m\u001b[0mgraph\u001b[0m\u001b[0;34m,\u001b[0m \u001b[0msess\u001b[0m\u001b[0;34m,\u001b[0m \u001b[0meval_op\u001b[0m\u001b[0;34m,\u001b[0m \u001b[0mimages_placeholder\u001b[0m\u001b[0;34m)\u001b[0m\u001b[0;34m\u001b[0m\u001b[0m\n\u001b[0m\u001b[1;32m     23\u001b[0m \u001b[0;31m# Compute the vanilla mask and the smoothed mask.\u001b[0m\u001b[0;34m\u001b[0m\u001b[0;34m\u001b[0m\u001b[0m\n\u001b[1;32m     24\u001b[0m vanilla_guided_backprop_mask_3d = guided_backprop.GetMask(\n",
      "\u001b[0;32m/home/yangzhic/anaconda3/envs/tensorflow/lib/python2.7/site-packages/saliency/guided_backprop.pyc\u001b[0m in \u001b[0;36m__init__\u001b[0;34m(self, graph, session, y, x)\u001b[0m\n\u001b[1;32m     39\u001b[0m     \u001b[0;32mif\u001b[0m \u001b[0mGuidedBackprop\u001b[0m\u001b[0;34m.\u001b[0m\u001b[0mGuidedReluRegistered\u001b[0m \u001b[0;32mis\u001b[0m \u001b[0mFalse\u001b[0m\u001b[0;34m:\u001b[0m\u001b[0;34m\u001b[0m\u001b[0m\n\u001b[1;32m     40\u001b[0m       \u001b[0;31m#### Acknowledgement to Chris Olah ####\u001b[0m\u001b[0;34m\u001b[0m\u001b[0;34m\u001b[0m\u001b[0m\n\u001b[0;32m---> 41\u001b[0;31m       \u001b[0;34m@\u001b[0m\u001b[0mtf\u001b[0m\u001b[0;34m.\u001b[0m\u001b[0mRegisterGradient\u001b[0m\u001b[0;34m(\u001b[0m\u001b[0;34m\"GuidedRelu\"\u001b[0m\u001b[0;34m)\u001b[0m\u001b[0;34m\u001b[0m\u001b[0m\n\u001b[0m\u001b[1;32m     42\u001b[0m       \u001b[0;32mdef\u001b[0m \u001b[0m_GuidedReluGrad\u001b[0m\u001b[0;34m(\u001b[0m\u001b[0mop\u001b[0m\u001b[0;34m,\u001b[0m \u001b[0mgrad\u001b[0m\u001b[0;34m)\u001b[0m\u001b[0;34m:\u001b[0m\u001b[0;34m\u001b[0m\u001b[0m\n\u001b[1;32m     43\u001b[0m         \u001b[0mgate_g\u001b[0m \u001b[0;34m=\u001b[0m \u001b[0mtf\u001b[0m\u001b[0;34m.\u001b[0m\u001b[0mcast\u001b[0m\u001b[0;34m(\u001b[0m\u001b[0mgrad\u001b[0m \u001b[0;34m>\u001b[0m \u001b[0;36m0\u001b[0m\u001b[0;34m,\u001b[0m \u001b[0;34m\"float32\"\u001b[0m\u001b[0;34m)\u001b[0m\u001b[0;34m\u001b[0m\u001b[0m\n",
      "\u001b[0;32m/home/yangzhic/anaconda3/envs/tensorflow/lib/python2.7/site-packages/tensorflow/python/framework/ops.pyc\u001b[0m in \u001b[0;36m__call__\u001b[0;34m(self, f)\u001b[0m\n\u001b[1;32m   1786\u001b[0m   \u001b[0;32mdef\u001b[0m \u001b[0m__call__\u001b[0m\u001b[0;34m(\u001b[0m\u001b[0mself\u001b[0m\u001b[0;34m,\u001b[0m \u001b[0mf\u001b[0m\u001b[0;34m)\u001b[0m\u001b[0;34m:\u001b[0m\u001b[0;34m\u001b[0m\u001b[0m\n\u001b[1;32m   1787\u001b[0m     \u001b[0;34m\"\"\"Registers the function `f` as gradient function for `op_type`.\"\"\"\u001b[0m\u001b[0;34m\u001b[0m\u001b[0m\n\u001b[0;32m-> 1788\u001b[0;31m     \u001b[0m_gradient_registry\u001b[0m\u001b[0;34m.\u001b[0m\u001b[0mregister\u001b[0m\u001b[0;34m(\u001b[0m\u001b[0mf\u001b[0m\u001b[0;34m,\u001b[0m \u001b[0mself\u001b[0m\u001b[0;34m.\u001b[0m\u001b[0m_op_type\u001b[0m\u001b[0;34m)\u001b[0m\u001b[0;34m\u001b[0m\u001b[0m\n\u001b[0m\u001b[1;32m   1789\u001b[0m     \u001b[0;32mreturn\u001b[0m \u001b[0mf\u001b[0m\u001b[0;34m\u001b[0m\u001b[0m\n\u001b[1;32m   1790\u001b[0m \u001b[0;34m\u001b[0m\u001b[0m\n",
      "\u001b[0;32m/home/yangzhic/anaconda3/envs/tensorflow/lib/python2.7/site-packages/tensorflow/python/framework/registry.pyc\u001b[0m in \u001b[0;36mregister\u001b[0;34m(self, candidate, name)\u001b[0m\n\u001b[1;32m     60\u001b[0m       raise KeyError(\"Registering two %s with name '%s' !\"\n\u001b[1;32m     61\u001b[0m                      \u001b[0;34m\"(Previous registration was in %s %s:%d)\"\u001b[0m \u001b[0;34m%\u001b[0m\u001b[0;34m\u001b[0m\u001b[0m\n\u001b[0;32m---> 62\u001b[0;31m                      (self._name, name, function_name, filename, line_number))\n\u001b[0m\u001b[1;32m     63\u001b[0m \u001b[0;34m\u001b[0m\u001b[0m\n\u001b[1;32m     64\u001b[0m     \u001b[0mlogging\u001b[0m\u001b[0;34m.\u001b[0m\u001b[0mvlog\u001b[0m\u001b[0;34m(\u001b[0m\u001b[0;36m1\u001b[0m\u001b[0;34m,\u001b[0m \u001b[0;34m\"Registering %s (%s) in %s.\"\u001b[0m\u001b[0;34m,\u001b[0m \u001b[0mname\u001b[0m\u001b[0;34m,\u001b[0m \u001b[0mcandidate\u001b[0m\u001b[0;34m,\u001b[0m \u001b[0mself\u001b[0m\u001b[0;34m.\u001b[0m\u001b[0m_name\u001b[0m\u001b[0;34m)\u001b[0m\u001b[0;34m\u001b[0m\u001b[0m\n",
      "\u001b[0;31mKeyError\u001b[0m: \"Registering two gradient with name 'GuidedRelu' !(Previous registration was in <module> /home/yangzhic/anaconda3/envs/tensorflow/lib/python2.7/site-packages/ipykernel_launcher.py:16)\""
     ]
    }
   ],
   "source": [
    "print(\"guided backprop\")\n",
    "import saliency\n",
    "\n",
    "graph = tf.Graph()\n",
    "with graph.as_default():\n",
    "    sess = tf.Session(graph=graph)\n",
    "    saver = tf.train.import_meta_graph(\"model/checkpoint-199.meta\")\n",
    "    saver.restore(sess, \"model/checkpoint-199\")   \n",
    "\n",
    "    # Retrieve the Ops we 'remembered'.\n",
    "    logits = tf.get_collection(\"logits\")[0]\n",
    "    images_placeholder = tf.get_collection(\"images\")[0]\n",
    "    labels_placeholder = tf.get_collection(\"labels\")[0]\n",
    "    keep_prob = tf.get_collection(\"prop\")[0]\n",
    "\n",
    "    # Add an Op that chooses the top k predictions.\n",
    "    eval_op = tf.nn.top_k(logits)\n",
    "    eval_op = eval_op.indices[0][0]\n",
    "    \n",
    "\n",
    "images_feed, labels_feed = test_ds.next_batch(EVAL_BATCH_SIZE)\n",
    "guided_backprop = saliency.GuidedBackprop(graph, sess, eval_op, images_placeholder)\n",
    "# Compute the vanilla mask and the smoothed mask.\n",
    "vanilla_guided_backprop_mask_3d = guided_backprop.GetMask(\n",
    "  images_feed, feed_dict={labels_placeholder: labels_feed, keep_prob: 1})\n",
    "smoothgrad_guided_backprop_mask_3d = guided_backprop.GetSmoothedMask(\n",
    "  images_feed, feed_dict={labels_placeholder: labels_feed, keep_prob: 1})\n",
    "print vanilla_guided_backprop_mask_3d\n",
    "print vanilla_guided_backprop_mask_3d.shape\n"
   ]
  },
  {
   "cell_type": "code",
   "execution_count": null,
   "metadata": {
    "collapsed": true
   },
   "outputs": [],
   "source": []
  }
 ],
 "metadata": {
  "kernelspec": {
   "display_name": "Python 2",
   "language": "python",
   "name": "python2"
  },
  "language_info": {
   "codemirror_mode": {
    "name": "ipython",
    "version": 2
   },
   "file_extension": ".py",
   "mimetype": "text/x-python",
   "name": "python",
   "nbconvert_exporter": "python",
   "pygments_lexer": "ipython2",
   "version": "2.7.13"
  }
 },
 "nbformat": 4,
 "nbformat_minor": 2
}
